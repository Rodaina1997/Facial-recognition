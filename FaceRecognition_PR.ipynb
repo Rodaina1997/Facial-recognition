{
  "nbformat": 4,
  "nbformat_minor": 0,
  "metadata": {
    "accelerator": "GPU",
    "colab": {
      "name": "FaceRecognition_PR.ipynb",
      "provenance": [],
      "collapsed_sections": [],
      "include_colab_link": true
    },
    "kernelspec": {
      "display_name": "Python 3",
      "name": "python3"
    }
  },
  "cells": [
    {
      "cell_type": "markdown",
      "metadata": {
        "id": "view-in-github",
        "colab_type": "text"
      },
      "source": [
        "<a href=\"https://colab.research.google.com/github/Rodaina1997/Facial-recognition/blob/main/FaceRecognition_PR.ipynb\" target=\"_parent\"><img src=\"https://colab.research.google.com/assets/colab-badge.svg\" alt=\"Open In Colab\"/></a>"
      ]
    },
    {
      "cell_type": "markdown",
      "metadata": {
        "id": "CsSocOkE1iq-"
      },
      "source": [
        "#Imports\n"
      ]
    },
    {
      "cell_type": "code",
      "metadata": {
        "id": "ktBp2OwtJwgN"
      },
      "source": [
        "import numpy as np\n",
        "from numpy import linalg as LA\n",
        "import matplotlib.pyplot as plt\n",
        "\n",
        "#\n",
        "from sklearn.decomposition import PCA\n",
        "#\n",
        "import cv2 as cv\n",
        "#\n",
        "import os\n",
        "#importing data from google drive\n",
        "from google.colab import drive\n",
        "\n",
        "#\n",
        "from sklearn.model_selection import train_test_split\n",
        "from PIL import Image \n",
        "\n",
        "#\n",
        "from sklearn.neighbors import KNeighborsClassifier\n",
        "from sklearn import metrics \n",
        "from sklearn.metrics import accuracy_score"
      ],
      "execution_count": null,
      "outputs": []
    },
    {
      "cell_type": "markdown",
      "metadata": {
        "id": "9KC0OenaAYiM"
      },
      "source": [
        "# Loading files\n"
      ]
    },
    {
      "cell_type": "code",
      "metadata": {
        "colab": {
          "base_uri": "https://localhost:8080/"
        },
        "id": "NOPybYu2nkQ8",
        "outputId": "c684ca27-ce99-47d9-c75e-d45e669e4332"
      },
      "source": [
        "drive.mount('/content/drive')\n",
        "dataset_path ='/content/drive/MyDrive/Pattern_Recognition/dataset'"
      ],
      "execution_count": null,
      "outputs": [
        {
          "output_type": "stream",
          "text": [
            "Mounted at /content/drive\n"
          ],
          "name": "stdout"
        }
      ]
    },
    {
      "cell_type": "markdown",
      "metadata": {
        "id": "qG17wuBs10lw"
      },
      "source": [
        "#Data Matreix Generation and the Label vector"
      ]
    },
    {
      "cell_type": "code",
      "metadata": {
        "id": "jKgZ6MqNIyKG",
        "colab": {
          "base_uri": "https://localhost:8080/"
        },
        "outputId": "5051aa74-0829-42a5-ad31-332fe33d5d01"
      },
      "source": [
        "#sub_folders=[]\n",
        "\n",
        "Data_Matrix_D=np.zeros((400,10304),dtype='int64')  #Data single MAtrix\n",
        "Label_Vector_Y=np.zeros((400,1),dtype='int64')   #label vector \n",
        "\n",
        "i=0\n",
        "\n",
        "for  subjects in range(1,41):\n",
        "  sub_subjects=os.listdir(dataset_path+'/s'+str(subjects))\n",
        "  for images in sub_subjects:\n",
        "    img=cv.imread(dataset_path+'/s'+str(subjects)+'/'+images,0)  # zero for single channel(gray scale)\n",
        "    print(img.shape)\n",
        "    Data_Matrix_D[i,:]=img.flatten()# to flatten 2d matrix image into a single mattrix 10304\n",
        "    Label_Vector_Y[i]=(int(subjects))\n",
        "    i+=1\n",
        "  \n",
        "# for results checking   \n",
        "#print(\"Size of image vector = \"+str(len(img_to_vector)))\n",
        "print(\"length of Data Matrix = \"+str(Data_Matrix_D.shape))\n",
        "print(\"length of label vector = \"+str(len(Label_Vector_Y)))\n"
      ],
      "execution_count": null,
      "outputs": [
        {
          "output_type": "stream",
          "text": [
            "(112, 92)\n",
            "(112, 92)\n",
            "(112, 92)\n",
            "(112, 92)\n",
            "(112, 92)\n",
            "(112, 92)\n",
            "(112, 92)\n",
            "(112, 92)\n",
            "(112, 92)\n",
            "(112, 92)\n",
            "(112, 92)\n",
            "(112, 92)\n",
            "(112, 92)\n",
            "(112, 92)\n",
            "(112, 92)\n",
            "(112, 92)\n",
            "(112, 92)\n",
            "(112, 92)\n",
            "(112, 92)\n",
            "(112, 92)\n",
            "(112, 92)\n",
            "(112, 92)\n",
            "(112, 92)\n",
            "(112, 92)\n",
            "(112, 92)\n",
            "(112, 92)\n",
            "(112, 92)\n",
            "(112, 92)\n",
            "(112, 92)\n",
            "(112, 92)\n",
            "(112, 92)\n",
            "(112, 92)\n",
            "(112, 92)\n",
            "(112, 92)\n",
            "(112, 92)\n",
            "(112, 92)\n",
            "(112, 92)\n",
            "(112, 92)\n",
            "(112, 92)\n",
            "(112, 92)\n",
            "(112, 92)\n",
            "(112, 92)\n",
            "(112, 92)\n",
            "(112, 92)\n",
            "(112, 92)\n",
            "(112, 92)\n",
            "(112, 92)\n",
            "(112, 92)\n",
            "(112, 92)\n",
            "(112, 92)\n",
            "(112, 92)\n",
            "(112, 92)\n",
            "(112, 92)\n",
            "(112, 92)\n",
            "(112, 92)\n",
            "(112, 92)\n",
            "(112, 92)\n",
            "(112, 92)\n",
            "(112, 92)\n",
            "(112, 92)\n",
            "(112, 92)\n",
            "(112, 92)\n",
            "(112, 92)\n",
            "(112, 92)\n",
            "(112, 92)\n",
            "(112, 92)\n",
            "(112, 92)\n",
            "(112, 92)\n",
            "(112, 92)\n",
            "(112, 92)\n",
            "(112, 92)\n",
            "(112, 92)\n",
            "(112, 92)\n",
            "(112, 92)\n",
            "(112, 92)\n",
            "(112, 92)\n",
            "(112, 92)\n",
            "(112, 92)\n",
            "(112, 92)\n",
            "(112, 92)\n",
            "(112, 92)\n",
            "(112, 92)\n",
            "(112, 92)\n",
            "(112, 92)\n",
            "(112, 92)\n",
            "(112, 92)\n",
            "(112, 92)\n",
            "(112, 92)\n",
            "(112, 92)\n",
            "(112, 92)\n",
            "(112, 92)\n",
            "(112, 92)\n",
            "(112, 92)\n",
            "(112, 92)\n",
            "(112, 92)\n",
            "(112, 92)\n",
            "(112, 92)\n",
            "(112, 92)\n",
            "(112, 92)\n",
            "(112, 92)\n",
            "(112, 92)\n",
            "(112, 92)\n",
            "(112, 92)\n",
            "(112, 92)\n",
            "(112, 92)\n",
            "(112, 92)\n",
            "(112, 92)\n",
            "(112, 92)\n",
            "(112, 92)\n",
            "(112, 92)\n",
            "(112, 92)\n",
            "(112, 92)\n",
            "(112, 92)\n",
            "(112, 92)\n",
            "(112, 92)\n",
            "(112, 92)\n",
            "(112, 92)\n",
            "(112, 92)\n",
            "(112, 92)\n",
            "(112, 92)\n",
            "(112, 92)\n",
            "(112, 92)\n",
            "(112, 92)\n",
            "(112, 92)\n",
            "(112, 92)\n",
            "(112, 92)\n",
            "(112, 92)\n",
            "(112, 92)\n",
            "(112, 92)\n",
            "(112, 92)\n",
            "(112, 92)\n",
            "(112, 92)\n",
            "(112, 92)\n",
            "(112, 92)\n",
            "(112, 92)\n",
            "(112, 92)\n",
            "(112, 92)\n",
            "(112, 92)\n",
            "(112, 92)\n",
            "(112, 92)\n",
            "(112, 92)\n",
            "(112, 92)\n",
            "(112, 92)\n",
            "(112, 92)\n",
            "(112, 92)\n",
            "(112, 92)\n",
            "(112, 92)\n",
            "(112, 92)\n",
            "(112, 92)\n",
            "(112, 92)\n",
            "(112, 92)\n",
            "(112, 92)\n",
            "(112, 92)\n",
            "(112, 92)\n",
            "(112, 92)\n",
            "(112, 92)\n",
            "(112, 92)\n",
            "(112, 92)\n",
            "(112, 92)\n",
            "(112, 92)\n",
            "(112, 92)\n",
            "(112, 92)\n",
            "(112, 92)\n",
            "(112, 92)\n",
            "(112, 92)\n",
            "(112, 92)\n",
            "(112, 92)\n",
            "(112, 92)\n",
            "(112, 92)\n",
            "(112, 92)\n",
            "(112, 92)\n",
            "(112, 92)\n",
            "(112, 92)\n",
            "(112, 92)\n",
            "(112, 92)\n",
            "(112, 92)\n",
            "(112, 92)\n",
            "(112, 92)\n",
            "(112, 92)\n",
            "(112, 92)\n",
            "(112, 92)\n",
            "(112, 92)\n",
            "(112, 92)\n",
            "(112, 92)\n",
            "(112, 92)\n",
            "(112, 92)\n",
            "(112, 92)\n",
            "(112, 92)\n",
            "(112, 92)\n",
            "(112, 92)\n",
            "(112, 92)\n",
            "(112, 92)\n",
            "(112, 92)\n",
            "(112, 92)\n",
            "(112, 92)\n",
            "(112, 92)\n",
            "(112, 92)\n",
            "(112, 92)\n",
            "(112, 92)\n",
            "(112, 92)\n",
            "(112, 92)\n",
            "(112, 92)\n",
            "(112, 92)\n",
            "(112, 92)\n",
            "(112, 92)\n",
            "(112, 92)\n",
            "(112, 92)\n",
            "(112, 92)\n",
            "(112, 92)\n",
            "(112, 92)\n",
            "(112, 92)\n",
            "(112, 92)\n",
            "(112, 92)\n",
            "(112, 92)\n",
            "(112, 92)\n",
            "(112, 92)\n",
            "(112, 92)\n",
            "(112, 92)\n",
            "(112, 92)\n",
            "(112, 92)\n",
            "(112, 92)\n",
            "(112, 92)\n",
            "(112, 92)\n",
            "(112, 92)\n",
            "(112, 92)\n",
            "(112, 92)\n",
            "(112, 92)\n",
            "(112, 92)\n",
            "(112, 92)\n",
            "(112, 92)\n",
            "(112, 92)\n",
            "(112, 92)\n",
            "(112, 92)\n",
            "(112, 92)\n",
            "(112, 92)\n",
            "(112, 92)\n",
            "(112, 92)\n",
            "(112, 92)\n",
            "(112, 92)\n",
            "(112, 92)\n",
            "(112, 92)\n",
            "(112, 92)\n",
            "(112, 92)\n",
            "(112, 92)\n",
            "(112, 92)\n",
            "(112, 92)\n",
            "(112, 92)\n",
            "(112, 92)\n",
            "(112, 92)\n",
            "(112, 92)\n",
            "(112, 92)\n",
            "(112, 92)\n",
            "(112, 92)\n",
            "(112, 92)\n",
            "(112, 92)\n",
            "(112, 92)\n",
            "(112, 92)\n",
            "(112, 92)\n",
            "(112, 92)\n",
            "(112, 92)\n",
            "(112, 92)\n",
            "(112, 92)\n",
            "(112, 92)\n",
            "(112, 92)\n",
            "(112, 92)\n",
            "(112, 92)\n",
            "(112, 92)\n",
            "(112, 92)\n",
            "(112, 92)\n",
            "(112, 92)\n",
            "(112, 92)\n",
            "(112, 92)\n",
            "(112, 92)\n",
            "(112, 92)\n",
            "(112, 92)\n",
            "(112, 92)\n",
            "(112, 92)\n",
            "(112, 92)\n",
            "(112, 92)\n",
            "(112, 92)\n",
            "(112, 92)\n",
            "(112, 92)\n",
            "(112, 92)\n",
            "(112, 92)\n",
            "(112, 92)\n",
            "(112, 92)\n",
            "(112, 92)\n",
            "(112, 92)\n",
            "(112, 92)\n",
            "(112, 92)\n",
            "(112, 92)\n",
            "(112, 92)\n",
            "(112, 92)\n",
            "(112, 92)\n",
            "(112, 92)\n",
            "(112, 92)\n",
            "(112, 92)\n",
            "(112, 92)\n",
            "(112, 92)\n",
            "(112, 92)\n",
            "(112, 92)\n",
            "(112, 92)\n",
            "(112, 92)\n",
            "(112, 92)\n",
            "(112, 92)\n",
            "(112, 92)\n",
            "(112, 92)\n",
            "(112, 92)\n",
            "(112, 92)\n",
            "(112, 92)\n",
            "(112, 92)\n",
            "(112, 92)\n",
            "(112, 92)\n",
            "(112, 92)\n",
            "(112, 92)\n",
            "(112, 92)\n",
            "(112, 92)\n",
            "(112, 92)\n",
            "(112, 92)\n",
            "(112, 92)\n",
            "(112, 92)\n",
            "(112, 92)\n",
            "(112, 92)\n",
            "(112, 92)\n",
            "(112, 92)\n",
            "(112, 92)\n",
            "(112, 92)\n",
            "(112, 92)\n",
            "(112, 92)\n",
            "(112, 92)\n",
            "(112, 92)\n",
            "(112, 92)\n",
            "(112, 92)\n",
            "(112, 92)\n",
            "(112, 92)\n",
            "(112, 92)\n",
            "(112, 92)\n",
            "(112, 92)\n",
            "(112, 92)\n",
            "(112, 92)\n",
            "(112, 92)\n",
            "(112, 92)\n",
            "(112, 92)\n",
            "(112, 92)\n",
            "(112, 92)\n",
            "(112, 92)\n",
            "(112, 92)\n",
            "(112, 92)\n",
            "(112, 92)\n",
            "(112, 92)\n",
            "(112, 92)\n",
            "(112, 92)\n",
            "(112, 92)\n",
            "(112, 92)\n",
            "(112, 92)\n",
            "(112, 92)\n",
            "(112, 92)\n",
            "(112, 92)\n",
            "(112, 92)\n",
            "(112, 92)\n",
            "(112, 92)\n",
            "(112, 92)\n",
            "(112, 92)\n",
            "(112, 92)\n",
            "(112, 92)\n",
            "(112, 92)\n",
            "(112, 92)\n",
            "(112, 92)\n",
            "(112, 92)\n",
            "(112, 92)\n",
            "(112, 92)\n",
            "(112, 92)\n",
            "(112, 92)\n",
            "(112, 92)\n",
            "(112, 92)\n",
            "(112, 92)\n",
            "(112, 92)\n",
            "(112, 92)\n",
            "(112, 92)\n",
            "(112, 92)\n",
            "(112, 92)\n",
            "(112, 92)\n",
            "(112, 92)\n",
            "(112, 92)\n",
            "(112, 92)\n",
            "(112, 92)\n",
            "(112, 92)\n",
            "(112, 92)\n",
            "(112, 92)\n",
            "(112, 92)\n",
            "(112, 92)\n",
            "(112, 92)\n",
            "(112, 92)\n",
            "(112, 92)\n",
            "(112, 92)\n",
            "(112, 92)\n",
            "(112, 92)\n",
            "(112, 92)\n",
            "(112, 92)\n",
            "(112, 92)\n",
            "length of Data Matrix = (400, 10304)\n",
            "length of label vector = 400\n"
          ],
          "name": "stdout"
        }
      ]
    },
    {
      "cell_type": "markdown",
      "metadata": {
        "id": "zF3G1ocs2RID"
      },
      "source": [
        "# Split the Dataset into Training and Test sets"
      ]
    },
    {
      "cell_type": "code",
      "metadata": {
        "colab": {
          "base_uri": "https://localhost:8080/"
        },
        "id": "FTSt7yDN2air",
        "outputId": "6dc63353-bcf1-47b1-a0a6-2313bb1b09cd"
      },
      "source": [
        "train_split_value = int(Data_Matrix_D.shape[0]*(5/10))#200\n",
        "test_split_value = Data_Matrix_D.shape[0] - train_split_value#200 \n",
        "\n",
        "training_data=np.zeros((train_split_value,10304),dtype='int64')#200*10304\n",
        "training_labels=np.zeros((train_split_value,1),dtype='int64')#200*1\n",
        "\n",
        "test_data= np.zeros((test_split_value,10304),dtype='int64')#)#200*10304\n",
        "test_labels=np.zeros((test_split_value,1),dtype='int64')#)#200*1\n",
        "\n",
        "\n",
        "\n",
        "train_count1=0\n",
        "test_count1=0\n",
        "train_count2=0\n",
        "test_count2=0\n",
        "\n",
        "\n",
        "for i in range(Data_Matrix_D.shape[0]):#data\n",
        "\n",
        "  if(i%2)==0:\n",
        "    training_data[train_count1,:]=Data_Matrix_D[i]\n",
        "    train_count1+=1\n",
        "\n",
        "  else:\n",
        "    test_data[test_count1]=Data_Matrix_D[i]\n",
        "    test_count1+=1\n",
        "    \n",
        "    \n",
        "\n",
        "for j in range(Data_Matrix_D.shape[0]):#labels\n",
        "\n",
        "  if(j%2)==0:\n",
        "    training_labels[train_count2]=Label_Vector_Y[j]\n",
        "    train_count2+=1\n",
        "  else:\n",
        "    test_labels[test_count2]=Label_Vector_Y[j]\n",
        "    test_count2+=1\n",
        "    \n",
        "   \n",
        "    \n",
        "print(len(Data_Matrix_D))\n",
        "print(\"length of traing_data matrix= \"+str(len(training_data)))\n",
        "print(\"length of test_data matrix= \"+str(len(test_data)))\n",
        "print(\"length of traing_labels matrix= \"+str(len(training_labels)))\n",
        "print(\"length of test_labels matrix= \"+str(len(test_labels)))\n",
        "\n",
        "\n",
        "print(training_data.shape)\n",
        "print(test_data)\n",
        "\n"
      ],
      "execution_count": null,
      "outputs": [
        {
          "output_type": "stream",
          "text": [
            "400\n",
            "length of traing_data matrix= 200\n",
            "length of test_data matrix= 200\n",
            "length of traing_labels matrix= 200\n",
            "length of test_labels matrix= 200\n",
            "(200, 10304)\n",
            "[[ 48  49  45 ...  47  46  46]\n",
            " [ 34  34  33 ...  37  40  33]\n",
            " [ 44  43  32 ...  43  43  37]\n",
            " ...\n",
            " [119 121 123 ...  36  40  36]\n",
            " [127 131 128 ...  94  84  89]\n",
            " [130 123 127 ...  33  37  40]]\n"
          ],
          "name": "stdout"
        }
      ]
    },
    {
      "cell_type": "markdown",
      "metadata": {
        "id": "KI9RMn7P2pC5"
      },
      "source": [
        "# Reduction using PCA\n",
        "\n",
        "\n",
        "\n"
      ]
    },
    {
      "cell_type": "code",
      "metadata": {
        "colab": {
          "base_uri": "https://localhost:8080/"
        },
        "id": "Ic27jfg9_2xR",
        "outputId": "189e19d9-ad13-43c1-ba10-e77dc9d9f5f3"
      },
      "source": [
        "alpha1=0.8\n",
        "alpha2=0.85\n",
        "alpha3=0.9\n",
        "alpha4=0.95\n",
        "sum_of_eigen_values_lower=0\n",
        "fraction_of_total_variance=[]\n",
        "projection_matrix_1=[]\n",
        "projection_matrix_2=[]\n",
        "projection_matrix_3=[]\n",
        "projection_matrix_4=[]\n",
        "\n",
        "#computing projection matrices(a)\n",
        "\n",
        "Mean=np.mean(training_data,axis=0) #computing the mean of every feature(column)\n",
        "Z=training_data - Mean.T #centering the matrix  # el mfrood tb2a mean transpose?\n",
        "Cov_matrix=np.cov(Z) #computing the covariance matrix\n",
        "cov2=(np.dot(Z.T,Z))/len(training_data)\n",
        "Eigen_values,Eigen_vectors=LA.eigh(cov2) #computing eigen values\n",
        "#Eigen_vectors=LA.eig(cov2)[1] #computing eigen vectors\n",
        "#sorted_values=np.sort(Eigen_values)\n",
        "#sorted_vectors=np.sort(Eigen_vectors)\n",
        "indices_sorted=Eigen_values.argsort()[::-1]\n",
        "sorted_values=Eigen_values[indices_sorted]\n",
        "sorted_vectors=Eigen_vectors[:,indices_sorted]\n",
        "\n",
        "\n",
        "\n",
        "d=len(sorted_values) #number of eigen values\n",
        "for i in range(0,d):\n",
        "  sum_of_eigen_values_lower+=sorted_values[i]\n",
        "\n",
        "r=1\n",
        "while r<=d:\n",
        "\n",
        "  sum_of_eigen_values_upper=0\n",
        "\n",
        "  for k in range(0,r):\n",
        "    sum_of_eigen_values_upper+=sorted_values[k]\n",
        "\n",
        "  fraction_of_total_variance.append((sum_of_eigen_values_upper)/(sum_of_eigen_values_lower)) #getting the fractions of total variance\n",
        "  r+=1\n",
        "\n",
        "r_values_1=[]\n",
        "r_values_2=[]\n",
        "r_values_3=[]\n",
        "r_values_4=[]\n",
        "\n",
        "for n in range(0,len(fraction_of_total_variance)):\n",
        "  if (fraction_of_total_variance[n])>=alpha1:\n",
        "    r_values_1.append(n) #getting the r values such that f(r)>=alpha1\n",
        "\n",
        "  if (fraction_of_total_variance[n])>=alpha2:\n",
        "    r_values_2.append(n) #getting the r values such that f(r)>=alpha2\n",
        "\n",
        "  if (fraction_of_total_variance[n])>=alpha3:\n",
        "    r_values_3.append(n)  #getting the r values such that f(r)>=alpha3\n",
        "\n",
        "  if (fraction_of_total_variance[n])>=alpha4:\n",
        "    r_values_4.append(n)  #getting the r values such that f(r)>=alpha4\n",
        "\n",
        "#getting the min r in every set\n",
        "smallest_r_1=(min(r_values_1))+1 \n",
        "smallest_r_2=(min(r_values_2))+1\n",
        "smallest_r_3=(min(r_values_3))+1\n",
        "smallest_r_4=(min(r_values_4))+1\n",
        "\n",
        "#getting the projection matrices using r1,r2,r3,r4\n",
        "for p in range(0,smallest_r_1):\n",
        "  projection_matrix_1.append(sorted_vectors[p])\n",
        "\n",
        "for q in range(0,smallest_r_2):\n",
        "  projection_matrix_2.append(sorted_vectors[q])\n",
        "\n",
        "for r in range(0,smallest_r_3):\n",
        "  projection_matrix_3.append(sorted_vectors[r])\n",
        "\n",
        "for s in range(0,smallest_r_4):\n",
        "  projection_matrix_4.append(sorted_vectors[s])  \n",
        "\n",
        "\n",
        "#arrays of projection matrices lists\n",
        "arr_proj_matrix1 = np.array(projection_matrix_1)\n",
        "arr_proj_matrix2 = np.array(projection_matrix_2)\n",
        "arr_proj_matrix3 = np.array(projection_matrix_3)\n",
        "arr_proj_matrix4 = np.array(projection_matrix_4)\n",
        "\n",
        "#projecting training and test datasets using the projection matrices(b)\n",
        "\n",
        "reduced_training_data_1=np.dot(training_data,arr_proj_matrix1.T)\n",
        "reduced_test_data_1=np.dot(test_data,arr_proj_matrix1.T)\n",
        "\n",
        "reduced_training_data_2=np.dot(training_data,arr_proj_matrix2.T)\n",
        "reduced_test_data_2=np.dot(test_data,arr_proj_matrix2.T)\n",
        "\n",
        "reduced_training_data_3=np.dot(training_data,arr_proj_matrix3.T)\n",
        "reduced_test_data_3=np.dot(test_data,arr_proj_matrix3.T)\n",
        "\n",
        "reduced_training_data_4=np.dot(training_data,arr_proj_matrix4.T)\n",
        "reduced_test_data_4=np.dot(test_data,arr_proj_matrix4.T)\n",
        "\n",
        "\n",
        "print((reduced_training_data_1.shape))\n",
        "print((reduced_test_data_1.shape))\n",
        "print((reduced_training_data_2.shape))\n",
        "print((reduced_test_data_2.shape))\n",
        "print((reduced_training_data_3.shape))\n",
        "print((reduced_test_data_3.shape))\n",
        "print((reduced_training_data_4.shape))\n",
        "print((reduced_test_data_4.shape))\n",
        "\n",
        "\n",
        "\n",
        "\n"
      ],
      "execution_count": null,
      "outputs": [
        {
          "output_type": "stream",
          "text": [
            "(200, 36)\n",
            "(200, 36)\n",
            "(200, 52)\n",
            "(200, 52)\n",
            "(200, 77)\n",
            "(200, 77)\n",
            "(200, 116)\n",
            "(200, 116)\n"
          ],
          "name": "stdout"
        }
      ]
    },
    {
      "cell_type": "code",
      "metadata": {
        "id": "cy0j01TwmBHT"
      },
      "source": [
        "def KNN_Classifier(k,training_data_reduced,test_data_reduced):\n",
        "  classifier = KNeighborsClassifier(n_neighbors=k)\n",
        "  classifier.fit(training_data_reduced,training_labels)\n",
        "  test_pred = classifier.predict(test_data_reduced)\n",
        "  return test_pred\n",
        "\n",
        "def KNN_Accuracy(alpha,test_prediction):\n",
        "   result=metrics.accuracy_score(test_labels, test_prediction)\n",
        "   print(\"Accuracy for alpha = {} is {} \".format(alpha,result))\n",
        "   return result  "
      ],
      "execution_count": null,
      "outputs": []
    },
    {
      "cell_type": "code",
      "metadata": {
        "id": "ofYtlUQXOhBw",
        "colab": {
          "base_uri": "https://localhost:8080/"
        },
        "outputId": "09cd787e-953e-4bbc-949e-4703745a8cf0"
      },
      "source": [
        "#Using a simple classifier,first Nearest Neighbor to determine the class labels(c)\n",
        "\n",
        "#reduced_training_data_1\n",
        "test_data_1_predection=KNN_Classifier(1,reduced_training_data_1,reduced_test_data_1)\n",
        "\n",
        "#reduced_training_data_2\n",
        "test_data_2_predection=KNN_Classifier(1,reduced_training_data_2,reduced_test_data_2)\n",
        "\n",
        "#reduced_training_data_3\n",
        "test_data_3_predection=KNN_Classifier(1,reduced_training_data_3,reduced_test_data_3)\n",
        "\n",
        "#reduced_training_data_4\n",
        "test_data_4_predection=KNN_Classifier(1,reduced_training_data_4,reduced_test_data_4)"
      ],
      "execution_count": null,
      "outputs": [
        {
          "output_type": "stream",
          "text": [
            "/usr/local/lib/python3.6/dist-packages/ipykernel_launcher.py:3: DataConversionWarning: A column-vector y was passed when a 1d array was expected. Please change the shape of y to (n_samples, ), for example using ravel().\n",
            "  This is separate from the ipykernel package so we can avoid doing imports until\n",
            "/usr/local/lib/python3.6/dist-packages/ipykernel_launcher.py:3: DataConversionWarning: A column-vector y was passed when a 1d array was expected. Please change the shape of y to (n_samples, ), for example using ravel().\n",
            "  This is separate from the ipykernel package so we can avoid doing imports until\n",
            "/usr/local/lib/python3.6/dist-packages/ipykernel_launcher.py:3: DataConversionWarning: A column-vector y was passed when a 1d array was expected. Please change the shape of y to (n_samples, ), for example using ravel().\n",
            "  This is separate from the ipykernel package so we can avoid doing imports until\n",
            "/usr/local/lib/python3.6/dist-packages/ipykernel_launcher.py:3: DataConversionWarning: A column-vector y was passed when a 1d array was expected. Please change the shape of y to (n_samples, ), for example using ravel().\n",
            "  This is separate from the ipykernel package so we can avoid doing imports until\n"
          ],
          "name": "stderr"
        }
      ]
    },
    {
      "cell_type": "code",
      "metadata": {
        "id": "AiZ5rIZsnFMr",
        "colab": {
          "base_uri": "https://localhost:8080/"
        },
        "outputId": "7678d95d-2bdb-466f-c5f9-1012683f6b75"
      },
      "source": [
        "#Report Accuracy for every value of alpha separately.\n",
        "\n",
        "# for alpha =0.8\n",
        "accurecy_alpha_1= KNN_Accuracy(0.8,test_data_1_predection)\n",
        "\n",
        "# for alpha =0.85\n",
        "accurecy_alpha_2=KNN_Accuracy(0.85,test_data_2_predection)\n",
        "\n",
        "# for alpha =0.9\n",
        "accurecy_alpha_3=KNN_Accuracy(0.9,test_data_3_predection)\n",
        "\n",
        "# for alpha =0.95\n",
        "accurecy_alpha_4=KNN_Accuracy(0.95,test_data_4_predection)\n"
      ],
      "execution_count": null,
      "outputs": [
        {
          "output_type": "stream",
          "text": [
            "Accuracy for alpha = 0.8 is 0.685 \n",
            "Accuracy for alpha = 0.85 is 0.82 \n",
            "Accuracy for alpha = 0.9 is 0.855 \n",
            "Accuracy for alpha = 0.95 is 0.905 \n"
          ],
          "name": "stdout"
        }
      ]
    },
    {
      "cell_type": "code",
      "metadata": {
        "colab": {
          "base_uri": "https://localhost:8080/",
          "height": 312
        },
        "id": "RdsVElCoYBIG",
        "outputId": "76b56bb3-1448-4506-e03e-f8009fd6fb8d"
      },
      "source": [
        "alphas=[0.8,0.85,0.9,0.95]\n",
        "Accuracies=[]\n",
        "Accuracies.append(accurecy_alpha_1)\n",
        "Accuracies.append(accurecy_alpha_2)\n",
        "Accuracies.append(accurecy_alpha_3)\n",
        "Accuracies.append(accurecy_alpha_4)\n",
        "print(Accuracies)\n",
        "\n",
        "plt.plot(alphas,Accuracies, color='red' ,linestyle='solid', marker='o', markerfacecolor='red', markersize=10)\n",
        "plt.title('Alphas Vs Accurracy')\n",
        "plt.xlabel('Alpha')\n",
        "plt.ylabel('Accuarracy')\n",
        "plt.show()"
      ],
      "execution_count": null,
      "outputs": [
        {
          "output_type": "stream",
          "text": [
            "[0.685, 0.82, 0.855, 0.905]\n"
          ],
          "name": "stdout"
        },
        {
          "output_type": "display_data",
          "data": {
            "image/png": "[encoded data removed]",
            "text/plain": [
              "<Figure size 432x288 with 1 Axes>"
            ]
          },
          "metadata": {
            "tags": [],
            "needs_background": "light"
          }
        }
      ]
    },
    {
      "cell_type": "code",
      "metadata": {
        "id": "WUkmcycgXpwM"
      },
      "source": [
        ""
      ],
      "execution_count": null,
      "outputs": []
    },
    {
      "cell_type": "markdown",
      "metadata": {
        "id": "SjNA-ogv22Xc"
      },
      "source": [
        "#Classifier Tuning KNN\n",
        "\n",
        "> Indented block\n",
        "\n"
      ]
    },
    {
      "cell_type": "code",
      "metadata": {
        "id": "ofaMgv2nrDJU",
        "colab": {
          "base_uri": "https://localhost:8080/"
        },
        "outputId": "fb0625b5-47e9-4a7b-eb33-98a9c08e8ea7"
      },
      "source": [
        "neighbours = [1,3,5,7]\n",
        "accuracy_matrix_1 = []\n",
        "accuracy_matrix_2 = []\n",
        "accuracy_matrix_3 = []\n",
        "accuracy_matrix_4 = []\n",
        "\n",
        "for neighbour in neighbours:\n",
        "  #Using a simple classifier\n",
        "  #accuracy_matrix_1\n",
        "      test_data_1_predection_one=KNN_Classifier(neighbour,reduced_training_data_1,reduced_test_data_1)\n",
        "      accuracy_matrix_1.append(accuracy_score(test_data_1_predection_one,test_labels))\n",
        "      #accuracy_matrix_2\n",
        "      test_data_2_predection_two=KNN_Classifier(neighbour,reduced_training_data_2,reduced_test_data_2)\n",
        "      accuracy_matrix_2.append(accuracy_score(test_data_2_predection_two,test_labels))\n",
        "\n",
        "      #accuracy_matrix_3\n",
        "      test_data_3_predection_three=KNN_Classifier(neighbour,reduced_training_data_3,reduced_test_data_3)\n",
        "      accuracy_matrix_3.append(accuracy_score(test_data_3_predection_three,test_labels))\n",
        "\n",
        "      #accuracy_matrix_4\n",
        "      test_data_4_predection_four=KNN_Classifier(neighbour,reduced_training_data_4,reduced_test_data_4)\n",
        "      accuracy_matrix_4.append(accuracy_score(test_data_4_predection_four,test_labels))\n",
        "\n"
      ],
      "execution_count": null,
      "outputs": [
        {
          "output_type": "stream",
          "text": [
            "/usr/local/lib/python3.6/dist-packages/ipykernel_launcher.py:3: DataConversionWarning: A column-vector y was passed when a 1d array was expected. Please change the shape of y to (n_samples, ), for example using ravel().\n",
            "  This is separate from the ipykernel package so we can avoid doing imports until\n",
            "/usr/local/lib/python3.6/dist-packages/ipykernel_launcher.py:3: DataConversionWarning: A column-vector y was passed when a 1d array was expected. Please change the shape of y to (n_samples, ), for example using ravel().\n",
            "  This is separate from the ipykernel package so we can avoid doing imports until\n",
            "/usr/local/lib/python3.6/dist-packages/ipykernel_launcher.py:3: DataConversionWarning: A column-vector y was passed when a 1d array was expected. Please change the shape of y to (n_samples, ), for example using ravel().\n",
            "  This is separate from the ipykernel package so we can avoid doing imports until\n",
            "/usr/local/lib/python3.6/dist-packages/ipykernel_launcher.py:3: DataConversionWarning: A column-vector y was passed when a 1d array was expected. Please change the shape of y to (n_samples, ), for example using ravel().\n",
            "  This is separate from the ipykernel package so we can avoid doing imports until\n",
            "/usr/local/lib/python3.6/dist-packages/ipykernel_launcher.py:3: DataConversionWarning: A column-vector y was passed when a 1d array was expected. Please change the shape of y to (n_samples, ), for example using ravel().\n",
            "  This is separate from the ipykernel package so we can avoid doing imports until\n",
            "/usr/local/lib/python3.6/dist-packages/ipykernel_launcher.py:3: DataConversionWarning: A column-vector y was passed when a 1d array was expected. Please change the shape of y to (n_samples, ), for example using ravel().\n",
            "  This is separate from the ipykernel package so we can avoid doing imports until\n",
            "/usr/local/lib/python3.6/dist-packages/ipykernel_launcher.py:3: DataConversionWarning: A column-vector y was passed when a 1d array was expected. Please change the shape of y to (n_samples, ), for example using ravel().\n",
            "  This is separate from the ipykernel package so we can avoid doing imports until\n",
            "/usr/local/lib/python3.6/dist-packages/ipykernel_launcher.py:3: DataConversionWarning: A column-vector y was passed when a 1d array was expected. Please change the shape of y to (n_samples, ), for example using ravel().\n",
            "  This is separate from the ipykernel package so we can avoid doing imports until\n",
            "/usr/local/lib/python3.6/dist-packages/ipykernel_launcher.py:3: DataConversionWarning: A column-vector y was passed when a 1d array was expected. Please change the shape of y to (n_samples, ), for example using ravel().\n",
            "  This is separate from the ipykernel package so we can avoid doing imports until\n",
            "/usr/local/lib/python3.6/dist-packages/ipykernel_launcher.py:3: DataConversionWarning: A column-vector y was passed when a 1d array was expected. Please change the shape of y to (n_samples, ), for example using ravel().\n",
            "  This is separate from the ipykernel package so we can avoid doing imports until\n",
            "/usr/local/lib/python3.6/dist-packages/ipykernel_launcher.py:3: DataConversionWarning: A column-vector y was passed when a 1d array was expected. Please change the shape of y to (n_samples, ), for example using ravel().\n",
            "  This is separate from the ipykernel package so we can avoid doing imports until\n",
            "/usr/local/lib/python3.6/dist-packages/ipykernel_launcher.py:3: DataConversionWarning: A column-vector y was passed when a 1d array was expected. Please change the shape of y to (n_samples, ), for example using ravel().\n",
            "  This is separate from the ipykernel package so we can avoid doing imports until\n",
            "/usr/local/lib/python3.6/dist-packages/ipykernel_launcher.py:3: DataConversionWarning: A column-vector y was passed when a 1d array was expected. Please change the shape of y to (n_samples, ), for example using ravel().\n",
            "  This is separate from the ipykernel package so we can avoid doing imports until\n",
            "/usr/local/lib/python3.6/dist-packages/ipykernel_launcher.py:3: DataConversionWarning: A column-vector y was passed when a 1d array was expected. Please change the shape of y to (n_samples, ), for example using ravel().\n",
            "  This is separate from the ipykernel package so we can avoid doing imports until\n",
            "/usr/local/lib/python3.6/dist-packages/ipykernel_launcher.py:3: DataConversionWarning: A column-vector y was passed when a 1d array was expected. Please change the shape of y to (n_samples, ), for example using ravel().\n",
            "  This is separate from the ipykernel package so we can avoid doing imports until\n",
            "/usr/local/lib/python3.6/dist-packages/ipykernel_launcher.py:3: DataConversionWarning: A column-vector y was passed when a 1d array was expected. Please change the shape of y to (n_samples, ), for example using ravel().\n",
            "  This is separate from the ipykernel package so we can avoid doing imports until\n"
          ],
          "name": "stderr"
        }
      ]
    },
    {
      "cell_type": "code",
      "metadata": {
        "colab": {
          "base_uri": "https://localhost:8080/"
        },
        "id": "6VCqELIyso1P",
        "outputId": "4e46aece-cb28-4375-fbc6-6e38532b479c"
      },
      "source": [
        "print(accuracy_matrix_1)\n",
        "print(accuracy_matrix_2)\n",
        "print(accuracy_matrix_3)\n",
        "print(accuracy_matrix_4)"
      ],
      "execution_count": null,
      "outputs": [
        {
          "output_type": "stream",
          "text": [
            "[0.685, 0.61, 0.56, 0.525]\n",
            "[0.82, 0.715, 0.69, 0.645]\n",
            "[0.855, 0.74, 0.73, 0.7]\n",
            "[0.905, 0.79, 0.78, 0.735]\n"
          ],
          "name": "stdout"
        }
      ]
    },
    {
      "cell_type": "code",
      "metadata": {
        "id": "tMDYcMa0278P",
        "colab": {
          "base_uri": "https://localhost:8080/",
          "height": 279
        },
        "outputId": "b9acecfc-46b9-484e-a61c-7485c57bc2df"
      },
      "source": [
        "\n",
        "\n",
        "plt.plot(neighbours,accuracy_matrix_1, color='red' ,linestyle='solid', marker='o', markerfacecolor='red', markersize=10)\n",
        "#plt.show()\n",
        "\n",
        "plt.plot(neighbours,accuracy_matrix_2, color='green' ,linestyle='solid', marker='o', markerfacecolor='green', markersize=10)\n",
        "#plt.show()\n",
        "\n",
        "plt.plot(neighbours,accuracy_matrix_3, color='blue' ,linestyle='solid', marker='o', markerfacecolor='blue', markersize=10)\n",
        "#plt.show()\n",
        "\n",
        "plt.plot(neighbours,accuracy_matrix_4, color='purple' ,linestyle='solid', marker='o', markerfacecolor='purple', markersize=10)\n",
        "plt.xlabel('K-value')\n",
        "plt.ylabel('Accurracy')\n",
        "plt.show()\n",
        "\n",
        "\n",
        "\n"
      ],
      "execution_count": null,
      "outputs": [
        {
          "output_type": "display_data",
          "data": {
            "image/png": "[encoded data removed]",
            "text/plain": [
              "<Figure size 432x288 with 1 Axes>"
            ]
          },
          "metadata": {
            "tags": [],
            "needs_background": "light"
          }
        }
      ]
    },
    {
      "cell_type": "markdown",
      "metadata": {
        "id": "ZBYCIuurWhjr"
      },
      "source": [
        "#Bouns"
      ]
    },
    {
      "cell_type": "code",
      "metadata": {
        "id": "77OVSkH-Wl2b"
      },
      "source": [
        "#X_train>> training_data\n",
        "#X_test>>  test_data\n",
        "\n",
        "#y_train>> training_labels\n",
        "#y_test>>  test_labels\n",
        "\n",
        "# Split dataset into training set and test set\n",
        "X_train, X_test, y_train, y_test = train_test_split(Data_Matrix_D, Label_Vector_Y, test_size=0.3) # 70% training and 30% test\n",
        "                  "
      ],
      "execution_count": null,
      "outputs": []
    },
    {
      "cell_type": "code",
      "metadata": {
        "colab": {
          "base_uri": "https://localhost:8080/"
        },
        "id": "Um6AMTv2e25G",
        "outputId": "9c9edad3-8fa3-43c3-d3bf-e3ea3d6f30c3"
      },
      "source": [
        "print(X_train.shape)\n",
        "print(y_train.shape)\n",
        "print(X_test.shape)\n",
        "print(y_test.shape)"
      ],
      "execution_count": null,
      "outputs": [
        {
          "output_type": "stream",
          "text": [
            "(280, 10304)\n",
            "(280, 1)\n",
            "(120, 10304)\n",
            "(120, 1)\n"
          ],
          "name": "stdout"
        }
      ]
    },
    {
      "cell_type": "code",
      "metadata": {
        "id": "unBjNKUF1Y1P"
      },
      "source": [
        "alpha1=0.8\n",
        "alpha2=0.85\n",
        "alpha3=0.9\n",
        "alpha4=0.95\n",
        "\n",
        "sum_of_eigen_values_lower_v2=0\n",
        "fraction_of_total_variance_v2=[]\n",
        "\n",
        "projection_matrix_1_v2=[]\n",
        "projection_matrix_2_v2=[]\n",
        "projection_matrix_3_v2=[]\n",
        "projection_matrix_4_v2=[]\n",
        "\n",
        "#computing projection matrices(a)\n",
        "\n",
        "Mean_v2=np.mean(X_train,axis=0) #computing the mean of every feature(column)\n",
        "\n",
        "Z_v2=X_train - Mean_v2.T #centering the matrix  # el mfrood tb2a mean transpose?\n",
        "Cov_matrix_v2=np.cov(Z_v2) #computing the covariance matrix\n",
        "cov2_v2=(np.dot(Z_v2.T,Z_v2))/len(X_train)\n",
        "Eigen_values_v2,Eigen_vectors_v2=LA.eigh(cov2_v2) #computing eigen values\n",
        "\n",
        "indices_sorted_v2=Eigen_values_v2.argsort()[::-1]\n",
        "sorted_values_v2=Eigen_values_v2[indices_sorted_v2]\n",
        "sorted_vectors_v2=Eigen_vectors_v2[:,indices_sorted_v2]"
      ],
      "execution_count": null,
      "outputs": []
    },
    {
      "cell_type": "code",
      "metadata": {
        "id": "anY0jVQg3gZV"
      },
      "source": [
        "d_v2=len(sorted_values_v2) #number of eigen values\n",
        "for i in range(0,d_v2):\n",
        "  sum_of_eigen_values_lower_v2+=sorted_values_v2[i]\n",
        "\n",
        "r_v2=1\n",
        "while r_v2<=d_v2:\n",
        "\n",
        "  sum_of_eigen_values_upper_v2=0\n",
        "\n",
        "  for k in range(0,r_v2):\n",
        "    sum_of_eigen_values_upper_v2+=sorted_values_v2[k]\n",
        "\n",
        "  fraction_of_total_variance_v2.append((sum_of_eigen_values_upper_v2)/(sum_of_eigen_values_lower_v2)) #getting the fractions of total variance\n",
        "  r_v2+=1"
      ],
      "execution_count": null,
      "outputs": []
    },
    {
      "cell_type": "code",
      "metadata": {
        "id": "mIcMvT7l5HZf"
      },
      "source": [
        "r_values_1_v2=[]\n",
        "r_values_2_v2=[]\n",
        "r_values_3_v2=[]\n",
        "r_values_4_v2=[]\n",
        "\n",
        "for n in range(0,len(fraction_of_total_variance_v2)):\n",
        "  if (fraction_of_total_variance_v2[n])>=alpha1:\n",
        "    r_values_1_v2.append(n) #getting the r values such that f(r)>=alpha1\n",
        "\n",
        "  if (fraction_of_total_variance_v2[n])>=alpha2:\n",
        "    r_values_2_v2.append(n) #getting the r values such that f(r)>=alpha2\n",
        "\n",
        "  if (fraction_of_total_variance_v2[n])>=alpha3:\n",
        "    r_values_3_v2.append(n)  #getting the r values such that f(r)>=alpha3\n",
        "\n",
        "  if (fraction_of_total_variance_v2[n])>=alpha4:\n",
        "    r_values_4_v2.append(n)  #getting the r values such that f(r)>=alpha4\n",
        "\n",
        "#getting the min r in every set\n",
        "smallest_r_1_v2=(min(r_values_1_v2))+1 \n",
        "smallest_r_2_v2=(min(r_values_2_v2))+1\n",
        "smallest_r_3_v2=(min(r_values_3_v2))+1\n",
        "smallest_r_4_v2=(min(r_values_4_v2))+1\n",
        "\n",
        "#getting the projection matrices using r1,r2,r3,r4\n",
        "for p_v2 in range(0,smallest_r_1_v2):\n",
        "  projection_matrix_1_v2.append(sorted_vectors_v2[p_v2])\n",
        "\n",
        "for q_v2 in range(0,smallest_r_2_v2):\n",
        "  projection_matrix_2_v2.append(sorted_vectors_v2[q_v2])\n",
        "\n",
        "for r_v2 in range(0,smallest_r_3_v2):\n",
        "  projection_matrix_3_v2.append(sorted_vectors_v2[r_v2])\n",
        "\n",
        "for s_v2 in range(0,smallest_r_4_v2):\n",
        "  projection_matrix_4_v2.append(sorted_vectors_v2[s_v2])      "
      ],
      "execution_count": null,
      "outputs": []
    },
    {
      "cell_type": "code",
      "metadata": {
        "colab": {
          "base_uri": "https://localhost:8080/"
        },
        "id": "8s4ZagZb9HMG",
        "outputId": "86d36fd2-5790-4cfa-ae9c-68fbd335db08"
      },
      "source": [
        "#arrays of projection matrices lists\n",
        "arr_proj_matrix1_v2 = np.array(projection_matrix_1_v2)\n",
        "arr_proj_matrix2_v2 = np.array(projection_matrix_2_v2)\n",
        "arr_proj_matrix3_v2 = np.array(projection_matrix_3_v2)\n",
        "arr_proj_matrix4_v2 = np.array(projection_matrix_4_v2)\n",
        "\n",
        "#projecting training and test datasets using the projection matrices(b)\n",
        "\n",
        "reduced_training_data_1_v2=np.dot(X_train,arr_proj_matrix1_v2.T)\n",
        "reduced_test_data_1_v2=np.dot(X_test,arr_proj_matrix1_v2.T)\n",
        "\n",
        "reduced_training_data_2_v2=np.dot(X_train,arr_proj_matrix2_v2.T)\n",
        "reduced_test_data_2_v2=np.dot(X_test,arr_proj_matrix2_v2.T)\n",
        "\n",
        "reduced_training_data_3_v2=np.dot(X_train,arr_proj_matrix3_v2.T)\n",
        "reduced_test_data_3_v2=np.dot(X_test,arr_proj_matrix3_v2.T)\n",
        "\n",
        "reduced_training_data_4_v2=np.dot(X_train,arr_proj_matrix4_v2.T)\n",
        "reduced_test_data_4_v2=np.dot(X_test,arr_proj_matrix4_v2.T)\n",
        "\n",
        "print((reduced_training_data_1_v2.shape))\n",
        "print((reduced_test_data_1_v2.shape))\n",
        "print((reduced_training_data_2_v2.shape))\n",
        "print((reduced_test_data_2_v2.shape))\n",
        "print((reduced_training_data_3_v2.shape))\n",
        "print((reduced_test_data_3_v2.shape))\n",
        "print((reduced_training_data_4_v2.shape))\n",
        "print((reduced_test_data_4_v2.shape))"
      ],
      "execution_count": null,
      "outputs": [
        {
          "output_type": "stream",
          "text": [
            "(280, 78)\n",
            "(120, 78)\n",
            "(280, 116)\n",
            "(120, 116)\n",
            "(280, 180)\n",
            "(120, 180)\n",
            "(280, 292)\n",
            "(120, 292)\n"
          ],
          "name": "stdout"
        }
      ]
    },
    {
      "cell_type": "code",
      "metadata": {
        "id": "Ehnc0iJOHStl"
      },
      "source": [
        "def KNN_Classifier_v2(k,training_data_reduced,test_data_reduced):\n",
        "  classifier = KNeighborsClassifier(n_neighbors=k)\n",
        "  classifier.fit(training_data_reduced,y_train)\n",
        "  test_pred = classifier.predict(test_data_reduced)\n",
        "  return test_pred\n",
        "\n",
        "def KNN_Accuracy_v2(alpha,test_prediction):\n",
        "   result=metrics.accuracy_score(y_test, test_prediction)\n",
        "   output_v2=round(result,2)\n",
        "   print(\"Accuracy for alpha = {} is {:.2f} \".format(alpha,output_v2))\n",
        "   return output_v2  "
      ],
      "execution_count": null,
      "outputs": []
    },
    {
      "cell_type": "code",
      "metadata": {
        "colab": {
          "base_uri": "https://localhost:8080/"
        },
        "id": "gHnO_T7QGp4c",
        "outputId": "bd277701-afbd-453b-82cb-4094e6f14dc3"
      },
      "source": [
        "#Using a simple classifier,first Nearest Neighbor to determine the class labels(c)\n",
        "\n",
        "#reduced_training_data_1\n",
        "test_data_1_predection_v2=KNN_Classifier_v2(1,reduced_training_data_1_v2,reduced_test_data_1_v2)\n",
        "\n",
        "#reduced_training_data_2\n",
        "test_data_2_predection_v2=KNN_Classifier_v2(1,reduced_training_data_2_v2,reduced_test_data_2_v2)\n",
        "\n",
        "#reduced_training_data_3\n",
        "test_data_3_predection_v2=KNN_Classifier_v2(1,reduced_training_data_3_v2,reduced_test_data_3_v2)\n",
        "\n",
        "#reduced_training_data_4\n",
        "test_data_4_predection_v2=KNN_Classifier_v2(1,reduced_training_data_4_v2,reduced_test_data_4_v2)"
      ],
      "execution_count": null,
      "outputs": [
        {
          "output_type": "stream",
          "text": [
            "/usr/local/lib/python3.6/dist-packages/ipykernel_launcher.py:3: DataConversionWarning: A column-vector y was passed when a 1d array was expected. Please change the shape of y to (n_samples, ), for example using ravel().\n",
            "  This is separate from the ipykernel package so we can avoid doing imports until\n",
            "/usr/local/lib/python3.6/dist-packages/ipykernel_launcher.py:3: DataConversionWarning: A column-vector y was passed when a 1d array was expected. Please change the shape of y to (n_samples, ), for example using ravel().\n",
            "  This is separate from the ipykernel package so we can avoid doing imports until\n",
            "/usr/local/lib/python3.6/dist-packages/ipykernel_launcher.py:3: DataConversionWarning: A column-vector y was passed when a 1d array was expected. Please change the shape of y to (n_samples, ), for example using ravel().\n",
            "  This is separate from the ipykernel package so we can avoid doing imports until\n",
            "/usr/local/lib/python3.6/dist-packages/ipykernel_launcher.py:3: DataConversionWarning: A column-vector y was passed when a 1d array was expected. Please change the shape of y to (n_samples, ), for example using ravel().\n",
            "  This is separate from the ipykernel package so we can avoid doing imports until\n"
          ],
          "name": "stderr"
        }
      ]
    },
    {
      "cell_type": "code",
      "metadata": {
        "colab": {
          "base_uri": "https://localhost:8080/"
        },
        "id": "Cy3HdCx3IOJm",
        "outputId": "a1bcef04-b513-4443-b8d0-ba24803a1e31"
      },
      "source": [
        "#Report Accuracy for every value of alpha separately.\n",
        "\n",
        "# for alpha =0.8\n",
        "accurecy_alpha_1_v2= KNN_Accuracy_v2(0.8,test_data_1_predection_v2)\n",
        "\n",
        "# for alpha =0.85\n",
        "accurecy_alpha_2_v2=KNN_Accuracy_v2(0.85,test_data_2_predection_v2)\n",
        "\n",
        "# for alpha =0.9\n",
        "accurecy_alpha_3_v2=KNN_Accuracy_v2(0.9,test_data_3_predection_v2)\n",
        "\n",
        "# for alpha =0.95\n",
        "accurecy_alpha_4_v2=KNN_Accuracy_v2(0.95,test_data_4_predection_v2)\n"
      ],
      "execution_count": null,
      "outputs": [
        {
          "output_type": "stream",
          "text": [
            "Accuracy for alpha = 0.8 is 0.76 \n",
            "Accuracy for alpha = 0.85 is 0.82 \n",
            "Accuracy for alpha = 0.9 is 0.91 \n",
            "Accuracy for alpha = 0.95 is 0.94 \n"
          ],
          "name": "stdout"
        }
      ]
    },
    {
      "cell_type": "code",
      "metadata": {
        "colab": {
          "base_uri": "https://localhost:8080/",
          "height": 312
        },
        "id": "3zSXnqG9I_bD",
        "outputId": "b433757c-4575-476c-8d9b-ddc29c9a05cb"
      },
      "source": [
        "alphas=[0.8,0.85,0.9,0.95]\n",
        "Accuracies_v2=[]\n",
        "Accuracies_v2.append(accurecy_alpha_1_v2)\n",
        "Accuracies_v2.append(accurecy_alpha_2_v2)\n",
        "Accuracies_v2.append(accurecy_alpha_3_v2)\n",
        "Accuracies_v2.append(accurecy_alpha_4_v2)\n",
        "print(Accuracies_v2)\n",
        "\n",
        "plt.plot(alphas,Accuracies_v2, color='red' ,linestyle='solid', marker='o', markerfacecolor='red', markersize=10)\n",
        "plt.title('Alphas Vs Accurracy')\n",
        "plt.xlabel('Alpha')\n",
        "plt.ylabel('Accuarracy')\n",
        "plt.show()"
      ],
      "execution_count": null,
      "outputs": [
        {
          "output_type": "stream",
          "text": [
            "[0.76, 0.82, 0.91, 0.94]\n"
          ],
          "name": "stdout"
        },
        {
          "output_type": "display_data",
          "data": {
            "image/png": "[encoded data removed]",
            "text/plain": [
              "<Figure size 432x288 with 1 Axes>"
            ]
          },
          "metadata": {
            "tags": [],
            "needs_background": "light"
          }
        }
      ]
    },
    {
      "cell_type": "code",
      "metadata": {
        "colab": {
          "base_uri": "https://localhost:8080/"
        },
        "id": "ILaheIQ_J8_s",
        "outputId": "38d2c678-7389-49e4-a928-dd205f84b844"
      },
      "source": [
        "neighbours_v2 = [1,3,5,7]\n",
        "accuracy_matrix_1_v2 = []\n",
        "accuracy_matrix_2_v2 = []\n",
        "accuracy_matrix_3_v2 = []\n",
        "accuracy_matrix_4_v2 = []\n",
        "\n",
        "for neighbour in neighbours_v2:\n",
        "  #Using a simple classifier\n",
        "  #accuracy_matrix_1\n",
        "      test_data_1_predection_one_v2=KNN_Classifier_v2(neighbour,reduced_training_data_1_v2,reduced_test_data_1_v2)\n",
        "      accuracy_matrix_1_v2.append(round(accuracy_score(test_data_1_predection_one_v2,y_test),2))\n",
        "      #accuracy_matrix_2\n",
        "      test_data_2_predection_two_v2=KNN_Classifier_v2(neighbour,reduced_training_data_2_v2,reduced_test_data_2_v2)\n",
        "      accuracy_matrix_2_v2.append(round(accuracy_score(test_data_2_predection_two_v2,y_test),2))\n",
        "\n",
        "      #accuracy_matrix_3\n",
        "      test_data_3_predection_three_v2=KNN_Classifier_v2(neighbour,reduced_training_data_3_v2,reduced_test_data_3_v2)\n",
        "      accuracy_matrix_3_v2.append(round(accuracy_score(test_data_3_predection_three_v2,y_test),2))\n",
        "\n",
        "      #accuracy_matrix_4\n",
        "      test_data_4_predection_four_v2=KNN_Classifier_v2(neighbour,reduced_training_data_4_v2,reduced_test_data_4_v2)\n",
        "      accuracy_matrix_4_v2.append(round(accuracy_score(test_data_4_predection_four_v2,y_test),2))\n"
      ],
      "execution_count": null,
      "outputs": [
        {
          "output_type": "stream",
          "text": [
            "/usr/local/lib/python3.6/dist-packages/ipykernel_launcher.py:3: DataConversionWarning: A column-vector y was passed when a 1d array was expected. Please change the shape of y to (n_samples, ), for example using ravel().\n",
            "  This is separate from the ipykernel package so we can avoid doing imports until\n",
            "/usr/local/lib/python3.6/dist-packages/ipykernel_launcher.py:3: DataConversionWarning: A column-vector y was passed when a 1d array was expected. Please change the shape of y to (n_samples, ), for example using ravel().\n",
            "  This is separate from the ipykernel package so we can avoid doing imports until\n",
            "/usr/local/lib/python3.6/dist-packages/ipykernel_launcher.py:3: DataConversionWarning: A column-vector y was passed when a 1d array was expected. Please change the shape of y to (n_samples, ), for example using ravel().\n",
            "  This is separate from the ipykernel package so we can avoid doing imports until\n",
            "/usr/local/lib/python3.6/dist-packages/ipykernel_launcher.py:3: DataConversionWarning: A column-vector y was passed when a 1d array was expected. Please change the shape of y to (n_samples, ), for example using ravel().\n",
            "  This is separate from the ipykernel package so we can avoid doing imports until\n",
            "/usr/local/lib/python3.6/dist-packages/ipykernel_launcher.py:3: DataConversionWarning: A column-vector y was passed when a 1d array was expected. Please change the shape of y to (n_samples, ), for example using ravel().\n",
            "  This is separate from the ipykernel package so we can avoid doing imports until\n",
            "/usr/local/lib/python3.6/dist-packages/ipykernel_launcher.py:3: DataConversionWarning: A column-vector y was passed when a 1d array was expected. Please change the shape of y to (n_samples, ), for example using ravel().\n",
            "  This is separate from the ipykernel package so we can avoid doing imports until\n",
            "/usr/local/lib/python3.6/dist-packages/ipykernel_launcher.py:3: DataConversionWarning: A column-vector y was passed when a 1d array was expected. Please change the shape of y to (n_samples, ), for example using ravel().\n",
            "  This is separate from the ipykernel package so we can avoid doing imports until\n",
            "/usr/local/lib/python3.6/dist-packages/ipykernel_launcher.py:3: DataConversionWarning: A column-vector y was passed when a 1d array was expected. Please change the shape of y to (n_samples, ), for example using ravel().\n",
            "  This is separate from the ipykernel package so we can avoid doing imports until\n",
            "/usr/local/lib/python3.6/dist-packages/ipykernel_launcher.py:3: DataConversionWarning: A column-vector y was passed when a 1d array was expected. Please change the shape of y to (n_samples, ), for example using ravel().\n",
            "  This is separate from the ipykernel package so we can avoid doing imports until\n",
            "/usr/local/lib/python3.6/dist-packages/ipykernel_launcher.py:3: DataConversionWarning: A column-vector y was passed when a 1d array was expected. Please change the shape of y to (n_samples, ), for example using ravel().\n",
            "  This is separate from the ipykernel package so we can avoid doing imports until\n",
            "/usr/local/lib/python3.6/dist-packages/ipykernel_launcher.py:3: DataConversionWarning: A column-vector y was passed when a 1d array was expected. Please change the shape of y to (n_samples, ), for example using ravel().\n",
            "  This is separate from the ipykernel package so we can avoid doing imports until\n",
            "/usr/local/lib/python3.6/dist-packages/ipykernel_launcher.py:3: DataConversionWarning: A column-vector y was passed when a 1d array was expected. Please change the shape of y to (n_samples, ), for example using ravel().\n",
            "  This is separate from the ipykernel package so we can avoid doing imports until\n",
            "/usr/local/lib/python3.6/dist-packages/ipykernel_launcher.py:3: DataConversionWarning: A column-vector y was passed when a 1d array was expected. Please change the shape of y to (n_samples, ), for example using ravel().\n",
            "  This is separate from the ipykernel package so we can avoid doing imports until\n",
            "/usr/local/lib/python3.6/dist-packages/ipykernel_launcher.py:3: DataConversionWarning: A column-vector y was passed when a 1d array was expected. Please change the shape of y to (n_samples, ), for example using ravel().\n",
            "  This is separate from the ipykernel package so we can avoid doing imports until\n",
            "/usr/local/lib/python3.6/dist-packages/ipykernel_launcher.py:3: DataConversionWarning: A column-vector y was passed when a 1d array was expected. Please change the shape of y to (n_samples, ), for example using ravel().\n",
            "  This is separate from the ipykernel package so we can avoid doing imports until\n",
            "/usr/local/lib/python3.6/dist-packages/ipykernel_launcher.py:3: DataConversionWarning: A column-vector y was passed when a 1d array was expected. Please change the shape of y to (n_samples, ), for example using ravel().\n",
            "  This is separate from the ipykernel package so we can avoid doing imports until\n"
          ],
          "name": "stderr"
        }
      ]
    },
    {
      "cell_type": "code",
      "metadata": {
        "colab": {
          "base_uri": "https://localhost:8080/"
        },
        "id": "JYh9Njw7LFl9",
        "outputId": "b501adee-f56a-4d9e-b3b6-621a044b907a"
      },
      "source": [
        "print(accuracy_matrix_1_v2)\n",
        "print(accuracy_matrix_2_v2)\n",
        "print(accuracy_matrix_3_v2)\n",
        "print(accuracy_matrix_4_v2)"
      ],
      "execution_count": null,
      "outputs": [
        {
          "output_type": "stream",
          "text": [
            "[0.76, 0.67, 0.59, 0.53]\n",
            "[0.82, 0.74, 0.69, 0.66]\n",
            "[0.91, 0.8, 0.8, 0.72]\n",
            "[0.94, 0.89, 0.82, 0.78]\n"
          ],
          "name": "stdout"
        }
      ]
    },
    {
      "cell_type": "code",
      "metadata": {
        "colab": {
          "base_uri": "https://localhost:8080/",
          "height": 279
        },
        "id": "cpD2npnMMwY2",
        "outputId": "3efbf3eb-14ee-4c70-e6b8-b6b223a0ed15"
      },
      "source": [
        "plt.plot(neighbours_v2,accuracy_matrix_1_v2, color='red' ,linestyle='solid', marker='o', markerfacecolor='red', markersize=10)\n",
        "#plt.show()\n",
        "\n",
        "plt.plot(neighbours_v2,accuracy_matrix_2_v2, color='green' ,linestyle='solid', marker='o', markerfacecolor='green', markersize=10)\n",
        "#plt.show()\n",
        "\n",
        "plt.plot(neighbours_v2,accuracy_matrix_3_v2, color='blue' ,linestyle='solid', marker='o', markerfacecolor='blue', markersize=10)\n",
        "#plt.show()\n",
        "\n",
        "plt.plot(neighbours_v2,accuracy_matrix_4_v2, color='purple' ,linestyle='solid', marker='o', markerfacecolor='purple', markersize=10)\n",
        "plt.xlabel('K-value')\n",
        "plt.ylabel('Accurracy')\n",
        "plt.show()"
      ],
      "execution_count": null,
      "outputs": [
        {
          "output_type": "display_data",
          "data": {
            "image/png": "[encoded data removed]",
            "text/plain": [
              "<Figure size 432x288 with 1 Axes>"
            ]
          },
          "metadata": {
            "tags": [],
            "needs_background": "light"
          }
        }
      ]
    }
  ]
}